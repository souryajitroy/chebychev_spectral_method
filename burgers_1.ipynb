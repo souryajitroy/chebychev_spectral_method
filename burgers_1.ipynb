{
 "cells": [
  {
   "cell_type": "code",
   "execution_count": 1,
   "id": "5beba91d",
   "metadata": {},
   "outputs": [],
   "source": [
    "import numpy as np"
   ]
  },
  {
   "cell_type": "code",
   "execution_count": 2,
   "id": "4ea47c9f",
   "metadata": {},
   "outputs": [],
   "source": [
    "def cheb(N):\n",
    "    '''Chebyshev polynomial differentiation matrix.\n",
    "       Ref.: Trefethen's 'Spectral Methods in MATLAB' book.\n",
    "    '''\n",
    "    x      = np.cos(np.pi*np.arange(0,N+1)/N)\n",
    "    if N%2 == 0:\n",
    "        x[N//2] = 0.0 # only when N is even!\n",
    "    c      = np.ones(N+1); c[0] = 2.0; c[N] = 2.0\n",
    "    c      = c * (-1.0)**np.arange(0,N+1)\n",
    "    c      = c.reshape(N+1,1)\n",
    "    X      = np.tile(x.reshape(N+1,1), (1,N+1))\n",
    "    dX     = X - X.T\n",
    "    D      = np.dot(c, 1.0/c.T) / (dX+np.eye(N+1))\n",
    "    D      = D - np.diag( D.sum(axis=1) )\n",
    "    return D,x"
   ]
  },
  {
   "cell_type": "code",
   "execution_count": 3,
   "id": "284692f8",
   "metadata": {},
   "outputs": [],
   "source": [
    "N=50\n",
    "\n",
    "D,x=cheb(N)\n",
    "\n",
    "B=np.matmul(D,D)\n",
    "\n"
   ]
  },
  {
   "cell_type": "code",
   "execution_count": 4,
   "id": "ef9721fd",
   "metadata": {},
   "outputs": [],
   "source": [
    "dt=1e-6\n",
    "\n",
    "t=np.arange(0,1,dt)\n",
    "\n",
    "Nt=len(t)\n"
   ]
  },
  {
   "cell_type": "code",
   "execution_count": 5,
   "id": "9f83f99a",
   "metadata": {},
   "outputs": [],
   "source": [
    "x_int=x[1:N]\n",
    "\n",
    "pi=np.pi\n",
    "\n",
    "u_init=np.sin(pi*x_int)"
   ]
  },
  {
   "cell_type": "code",
   "execution_count": 6,
   "id": "d0d55a2b",
   "metadata": {},
   "outputs": [],
   "source": [
    "s=1e+4\n",
    "\n",
    "nu=1"
   ]
  },
  {
   "cell_type": "code",
   "execution_count": 7,
   "id": "2df756b1",
   "metadata": {},
   "outputs": [],
   "source": [
    "def r(x,t):\n",
    "    \n",
    "    return pi*(1+np.sin(pi*(x+t)))*np.cos(pi*(x+t))+nu*(pi**2)*np.sin(pi*(x+t))"
   ]
  },
  {
   "cell_type": "code",
   "execution_count": 8,
   "id": "2519879f",
   "metadata": {},
   "outputs": [
    {
     "name": "stdout",
     "output_type": "stream",
     "text": [
      "10000 20000 30000 40000 50000 60000 70000 80000 90000 100000 110000 120000 130000 140000 150000 160000 170000 180000 190000 200000 210000 220000 230000 240000 "
     ]
    },
    {
     "ename": "KeyboardInterrupt",
     "evalue": "",
     "output_type": "error",
     "traceback": [
      "\u001b[0;31m---------------------------------------------------------------------------\u001b[0m",
      "\u001b[0;31mKeyboardInterrupt\u001b[0m                         Traceback (most recent call last)",
      "Cell \u001b[0;32mIn[8], line 17\u001b[0m\n\u001b[1;32m     13\u001b[0m u1\u001b[38;5;241m=\u001b[39mu\n\u001b[1;32m     15\u001b[0m t1\u001b[38;5;241m=\u001b[39mtp\n\u001b[0;32m---> 17\u001b[0m k1\u001b[38;5;241m=\u001b[39mnu\u001b[38;5;241m*\u001b[39mnp\u001b[38;5;241m.\u001b[39mmatmul(B,u1)\u001b[38;5;241m-\u001b[39mu1\u001b[38;5;241m*\u001b[39mnp\u001b[38;5;241m.\u001b[39mmatmul(D,u1)\u001b[38;5;241m+\u001b[39mr(x,t1)\n\u001b[1;32m     19\u001b[0m \u001b[38;5;66;03m#k2\u001b[39;00m\n\u001b[1;32m     21\u001b[0m u2\u001b[38;5;241m=\u001b[39mu\u001b[38;5;241m+\u001b[39mdt\u001b[38;5;241m*\u001b[39m(k1\u001b[38;5;241m/\u001b[39m\u001b[38;5;241m2\u001b[39m)\n",
      "Cell \u001b[0;32mIn[7], line 3\u001b[0m, in \u001b[0;36mr\u001b[0;34m(x, t)\u001b[0m\n\u001b[1;32m      1\u001b[0m \u001b[38;5;28;01mdef\u001b[39;00m \u001b[38;5;21mr\u001b[39m(x,t):\n\u001b[0;32m----> 3\u001b[0m     \u001b[38;5;28;01mreturn\u001b[39;00m pi\u001b[38;5;241m*\u001b[39m(\u001b[38;5;241m1\u001b[39m\u001b[38;5;241m+\u001b[39mnp\u001b[38;5;241m.\u001b[39msin(pi\u001b[38;5;241m*\u001b[39m(x\u001b[38;5;241m+\u001b[39mt)))\u001b[38;5;241m*\u001b[39mnp\u001b[38;5;241m.\u001b[39mcos(pi\u001b[38;5;241m*\u001b[39m(x\u001b[38;5;241m+\u001b[39mt))\u001b[38;5;241m+\u001b[39mnu\u001b[38;5;241m*\u001b[39m(pi\u001b[38;5;241m*\u001b[39m\u001b[38;5;241m*\u001b[39m\u001b[38;5;241m2\u001b[39m)\u001b[38;5;241m*\u001b[39mnp\u001b[38;5;241m.\u001b[39msin(pi\u001b[38;5;241m*\u001b[39m(x\u001b[38;5;241m+\u001b[39mt))\n",
      "\u001b[0;31mKeyboardInterrupt\u001b[0m: "
     ]
    }
   ],
   "source": [
    "u=u_init\n",
    "\n",
    "np.save('/localhome/souryajit/Desktop/nlpde_project/burgers_dirichlet_rk4/1/u_0.npy',u)\n",
    "\n",
    "for i in range(1,Nt):\n",
    "    \n",
    "    tp=t[i-1]\n",
    "    \n",
    "    u=np.concatenate(([-np.sin(pi*tp)],u,[-np.sin(pi*tp)]))\n",
    "    \n",
    "    #k1\n",
    "    \n",
    "    u1=u\n",
    "    \n",
    "    t1=tp\n",
    "    \n",
    "    k1=nu*np.matmul(B,u1)-u1*np.matmul(D,u1)+r(x,t1)\n",
    "    \n",
    "    #k2\n",
    "    \n",
    "    u2=u+dt*(k1/2)\n",
    "    \n",
    "    t2=tp+(dt/2)\n",
    "    \n",
    "    k2=nu*np.matmul(B,u2)-u2*np.matmul(D,u2)+r(x,t2)\n",
    "    \n",
    "    #k3\n",
    "    \n",
    "    u3=u+dt*(k2/2)\n",
    "    \n",
    "    t3=tp+(dt/2)\n",
    "    \n",
    "    k3=nu*np.matmul(B,u3)-u3*np.matmul(D,u3)+r(x,t3)\n",
    "    \n",
    "    #k4\n",
    "    \n",
    "    u4=u+dt*k3\n",
    "    \n",
    "    t4=tp+dt\n",
    "    \n",
    "    k4=nu*np.matmul(B,u4)-u4*np.matmul(D,u4)+r(x,t4)\n",
    "    \n",
    "    u=u+(dt/6)*(k1+2*k2+2*k3+k4)\n",
    "    \n",
    "    u=u[1:N]\n",
    "    \n",
    "    if i%s==0:\n",
    "        \n",
    "        print(str(i)+\" \",end='') #checking that the code is running\n",
    "        \n",
    "        np.save('/localhome/souryajit/Desktop/nlpde_project/burgers_dirichlet_rk4/1/u_'+str(i)+'.npy',u)"
   ]
  },
  {
   "cell_type": "code",
   "execution_count": 9,
   "id": "9a55fc5e",
   "metadata": {},
   "outputs": [],
   "source": [
    "xx=np.linspace(-1,1,200)\n",
    "\n",
    "X,T=np.meshgrid(xx,t)\n",
    "\n",
    "u_analytical=np.sin(pi*(X+T))"
   ]
  },
  {
   "cell_type": "code",
   "execution_count": 10,
   "id": "4069701b",
   "metadata": {},
   "outputs": [
    {
     "name": "stdout",
     "output_type": "stream",
     "text": [
      "0 10000 20000 30000 40000 50000 60000 70000 80000 90000 100000 110000 120000 130000 140000 150000 160000 170000 180000 190000 200000 210000 220000 230000 240000 250000 260000 270000 280000 290000 300000 310000 320000 330000 340000 350000 360000 370000 380000 390000 400000 410000 420000 430000 440000 450000 460000 470000 480000 490000 500000 510000 520000 530000 540000 550000 560000 570000 580000 590000 600000 610000 620000 630000 640000 650000 660000 670000 680000 690000 700000 710000 720000 730000 740000 750000 760000 770000 780000 790000 800000 810000 820000 830000 840000 850000 860000 870000 880000 890000 900000 910000 920000 930000 940000 950000 960000 970000 980000 990000 "
     ]
    }
   ],
   "source": [
    "import matplotlib.pyplot as plt\n",
    "\n",
    "for i in range(0,Nt):\n",
    "        \n",
    "        if i%s==0:\n",
    "            \n",
    "            print(str(i)+\" \",end='')\n",
    "            \n",
    "            ti=t[i] #present time\n",
    "            u=np.load('/localhome/souryajit/Desktop/nlpde_project/burgers_dirichlet_rk4/1/u_'+str(i)+'.npy')\n",
    "            \n",
    "            plt.scatter(x_int,u,color='r',label='numerical')\n",
    "            \n",
    "            \n",
    "            plt.plot(xx,u_analytical[i],label='analytical')\n",
    "            plt.title('at time '+str(ti)+'nu='+str(nu)+'N='+str(N)+'dt='+str(dt))\n",
    "            plt.xlabel('x-axis')\n",
    "            plt.ylabel('solution u(x)')\n",
    "            plt.legend()\n",
    "            plt.savefig('/localhome/souryajit/Desktop/nlpde_project/burgers_dirichlet_rk4/2/u_'+str(i)+'.png',dpi=300)\n",
    "            plt.close()"
   ]
  },
  {
   "cell_type": "code",
   "execution_count": 11,
   "id": "a144dd46",
   "metadata": {},
   "outputs": [
    {
     "name": "stdout",
     "output_type": "stream",
     "text": [
      "0 10000 20000 30000 40000 50000 60000 70000 80000 90000 100000 110000 120000 130000 140000 150000 160000 170000 180000 190000 200000 210000 220000 230000 240000 250000 260000 270000 280000 290000 300000 310000 320000 330000 340000 350000 360000 370000 380000 390000 400000 410000 420000 430000 440000 450000 460000 470000 480000 490000 500000 510000 520000 530000 540000 550000 560000 570000 580000 590000 600000 610000 620000 630000 640000 650000 660000 670000 680000 690000 700000 710000 720000 730000 740000 750000 760000 770000 780000 790000 800000 810000 820000 830000 840000 850000 860000 870000 880000 890000 900000 910000 920000 930000 940000 950000 960000 970000 980000 990000 "
     ]
    }
   ],
   "source": [
    "#error plot\n",
    "\n",
    "for i in range(0,Nt):\n",
    "        \n",
    "        if i%s==0:\n",
    "            \n",
    "            print(str(i)+\" \",end='')\n",
    "            \n",
    "            ti=t[i] #present time\n",
    "            u=np.load('/localhome/souryajit/Desktop/nlpde_project/burgers_dirichlet_rk4/1/u_'+str(i)+'.npy')\n",
    "            \n",
    "            u_analytical=np.sin(pi*(x_int+ti))\n",
    "            \n",
    "            error=np.abs(u-u_analytical)\n",
    "            \n",
    "            plt.plot(x_int,error)\n",
    "            \n",
    "            plt.title('at time '+str(ti)+'nu='+str(nu)+'N='+str(N)+'dt='+str(dt))\n",
    "            plt.xlabel('x-axis')\n",
    "            plt.ylabel('error')\n",
    "            plt.savefig('/localhome/souryajit/Desktop/nlpde_project/burgers_dirichlet_rk4/2/error_'+str(i)+'.png',dpi=300)\n",
    "            plt.close()"
   ]
  },
  {
   "cell_type": "code",
   "execution_count": null,
   "id": "eaef30a3",
   "metadata": {},
   "outputs": [],
   "source": []
  }
 ],
 "metadata": {
  "kernelspec": {
   "display_name": "Python 3 (ipykernel)",
   "language": "python",
   "name": "python3"
  },
  "language_info": {
   "codemirror_mode": {
    "name": "ipython",
    "version": 3
   },
   "file_extension": ".py",
   "mimetype": "text/x-python",
   "name": "python",
   "nbconvert_exporter": "python",
   "pygments_lexer": "ipython3",
   "version": "3.11.4"
  }
 },
 "nbformat": 4,
 "nbformat_minor": 5
}
