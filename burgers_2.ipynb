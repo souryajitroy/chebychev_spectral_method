{
 "cells": [
  {
   "cell_type": "code",
   "execution_count": 11,
   "id": "5beba91d",
   "metadata": {},
   "outputs": [],
   "source": [
    "import numpy as np"
   ]
  },
  {
   "cell_type": "code",
   "execution_count": 12,
   "id": "4ea47c9f",
   "metadata": {},
   "outputs": [],
   "source": [
    "def cheb(N):\n",
    "    '''Chebyshev polynomial differentiation matrix.\n",
    "       Ref.: Trefethen's 'Spectral Methods in MATLAB' book.\n",
    "    '''\n",
    "    x      = np.cos(np.pi*np.arange(0,N+1)/N)\n",
    "    if N%2 == 0:\n",
    "        x[N//2] = 0.0 # only when N is even!\n",
    "    c      = np.ones(N+1); c[0] = 2.0; c[N] = 2.0\n",
    "    c      = c * (-1.0)**np.arange(0,N+1)\n",
    "    c      = c.reshape(N+1,1)\n",
    "    X      = np.tile(x.reshape(N+1,1), (1,N+1))\n",
    "    dX     = X - X.T\n",
    "    D      = np.dot(c, 1.0/c.T) / (dX+np.eye(N+1))\n",
    "    D      = D - np.diag( D.sum(axis=1) )\n",
    "    return D,x"
   ]
  },
  {
   "cell_type": "code",
   "execution_count": 13,
   "id": "284692f8",
   "metadata": {},
   "outputs": [],
   "source": [
    "N=20\n",
    "\n",
    "D,x=cheb(N)\n",
    "\n",
    "B=np.matmul(D,D)\n",
    "\n"
   ]
  },
  {
   "cell_type": "code",
   "execution_count": 14,
   "id": "ef9721fd",
   "metadata": {},
   "outputs": [],
   "source": [
    "dt=1e-5\n",
    "\n",
    "t=np.arange(0,1,dt)\n",
    "\n",
    "Nt=len(t)\n"
   ]
  },
  {
   "cell_type": "code",
   "execution_count": 20,
   "id": "9f83f99a",
   "metadata": {},
   "outputs": [],
   "source": [
    "x_int=x[1:N]\n",
    "\n",
    "pi=np.pi\n",
    "\n",
    "nu=0.01\n",
    "\n",
    "u_init=1-2*nu*np.tanh(x_int)"
   ]
  },
  {
   "cell_type": "code",
   "execution_count": 21,
   "id": "d0d55a2b",
   "metadata": {},
   "outputs": [],
   "source": [
    "s=1e+4"
   ]
  },
  {
   "cell_type": "code",
   "execution_count": 22,
   "id": "2519879f",
   "metadata": {},
   "outputs": [
    {
     "name": "stdout",
     "output_type": "stream",
     "text": [
      "10000 20000 30000 40000 50000 60000 70000 80000 90000 "
     ]
    }
   ],
   "source": [
    "u=u_init\n",
    "\n",
    "np.save('/localhome/souryajit/Desktop/nlpde_project/burgers_dirichlet_rk4/3/u_0.npy',u)\n",
    "\n",
    "for i in range(1,Nt):\n",
    "    \n",
    "    tp=t[i-1]\n",
    "    \n",
    "    u0=1-2*nu*np.tanh(1-tp)\n",
    "    \n",
    "    uN=1-2*nu*np.tanh(-1-tp)\n",
    "    \n",
    "    u=np.concatenate(([u0],u,[uN]))\n",
    "    \n",
    "    #k1\n",
    "    \n",
    "    u1=u\n",
    "    \n",
    "    t1=tp\n",
    "    \n",
    "    k1=nu*np.matmul(B,u1)-u1*np.matmul(D,u1)\n",
    "    \n",
    "    #k2\n",
    "    \n",
    "    u2=u+dt*(k1/2)\n",
    "    \n",
    "    t2=tp+(dt/2)\n",
    "    \n",
    "    k2=nu*np.matmul(B,u2)-u2*np.matmul(D,u2)\n",
    "    \n",
    "    #k3\n",
    "    \n",
    "    u3=u+dt*(k2/2)\n",
    "    \n",
    "    t3=tp+(dt/2)\n",
    "    \n",
    "    k3=nu*np.matmul(B,u3)-u3*np.matmul(D,u3)\n",
    "    \n",
    "    #k4\n",
    "    \n",
    "    u4=u+dt*k3\n",
    "    \n",
    "    t4=tp+dt\n",
    "    \n",
    "    k4=nu*np.matmul(B,u4)-u4*np.matmul(D,u4)\n",
    "    \n",
    "    u=u+(dt/6)*(k1+2*k2+2*k3+k4)\n",
    "    \n",
    "    u=u[1:N]\n",
    "    \n",
    "    if i%s==0:\n",
    "        \n",
    "        print(str(i)+\" \",end='') #checking that the code is running\n",
    "        \n",
    "        np.save('/localhome/souryajit/Desktop/nlpde_project/burgers_dirichlet_rk4/3/u_'+str(i)+'.npy',u)"
   ]
  },
  {
   "cell_type": "code",
   "execution_count": 25,
   "id": "9a55fc5e",
   "metadata": {},
   "outputs": [],
   "source": [
    "xx=np.linspace(-1,1,200)\n",
    "\n",
    "X,T=np.meshgrid(xx,t)\n",
    "\n",
    "u_analytical=1-2*nu*np.tanh(X-T)"
   ]
  },
  {
   "cell_type": "code",
   "execution_count": 26,
   "id": "4069701b",
   "metadata": {},
   "outputs": [
    {
     "name": "stdout",
     "output_type": "stream",
     "text": [
      "0 10000 20000 30000 40000 50000 60000 70000 80000 90000 "
     ]
    }
   ],
   "source": [
    "import matplotlib.pyplot as plt\n",
    "\n",
    "for i in range(0,Nt):\n",
    "        \n",
    "        if i%s==0:\n",
    "            \n",
    "            print(str(i)+\" \",end='')\n",
    "            \n",
    "            ti=t[i] #present time\n",
    "            u=np.load('/localhome/souryajit/Desktop/nlpde_project/burgers_dirichlet_rk4/3/u_'+str(i)+'.npy')\n",
    "            \n",
    "            plt.scatter(x_int,u,color='r',label='numerical')\n",
    "            \n",
    "            \n",
    "            plt.plot(xx,u_analytical[i],label='analytical')\n",
    "            plt.title('at time '+str(ti)+'nu='+str(nu)+'N='+str(N)+'dt='+str(dt))\n",
    "            plt.xlabel('x-axis')\n",
    "            plt.ylabel('solution u(x)')\n",
    "            plt.legend()\n",
    "            plt.savefig('/localhome/souryajit/Desktop/nlpde_project/burgers_dirichlet_rk4/3/u_'+str(i)+'.png',dpi=300)\n",
    "            plt.close()"
   ]
  },
  {
   "cell_type": "code",
   "execution_count": 27,
   "id": "a144dd46",
   "metadata": {},
   "outputs": [
    {
     "name": "stdout",
     "output_type": "stream",
     "text": [
      "0 10000 20000 30000 40000 50000 60000 70000 80000 90000 "
     ]
    }
   ],
   "source": [
    "#error plot\n",
    "\n",
    "for i in range(0,Nt):\n",
    "        \n",
    "        if i%s==0:\n",
    "            \n",
    "            print(str(i)+\" \",end='')\n",
    "            \n",
    "            ti=t[i] #present time\n",
    "            u=np.load('/localhome/souryajit/Desktop/nlpde_project/burgers_dirichlet_rk4/3/u_'+str(i)+'.npy')\n",
    "            \n",
    "            u_analytical=1-2*nu*np.tanh(x_int-ti)\n",
    "            \n",
    "            error=np.abs(u-u_analytical)\n",
    "            \n",
    "            plt.plot(x_int,error)\n",
    "            \n",
    "            plt.title('at time '+str(ti)+'nu='+str(nu)+'N='+str(N)+'dt='+str(dt))\n",
    "            plt.xlabel('x-axis')\n",
    "            plt.ylabel('error')\n",
    "            plt.savefig('/localhome/souryajit/Desktop/nlpde_project/burgers_dirichlet_rk4/3/error_'+str(i)+'.png',dpi=300)\n",
    "            plt.close()"
   ]
  },
  {
   "cell_type": "code",
   "execution_count": null,
   "id": "eaef30a3",
   "metadata": {},
   "outputs": [],
   "source": []
  }
 ],
 "metadata": {
  "kernelspec": {
   "display_name": "Python 3 (ipykernel)",
   "language": "python",
   "name": "python3"
  },
  "language_info": {
   "codemirror_mode": {
    "name": "ipython",
    "version": 3
   },
   "file_extension": ".py",
   "mimetype": "text/x-python",
   "name": "python",
   "nbconvert_exporter": "python",
   "pygments_lexer": "ipython3",
   "version": "3.11.4"
  }
 },
 "nbformat": 4,
 "nbformat_minor": 5
}
